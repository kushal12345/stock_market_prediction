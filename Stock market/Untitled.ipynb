{
 "cells": [
  {
   "cell_type": "code",
   "execution_count": 1,
   "metadata": {},
   "outputs": [],
   "source": [
    "import csv # allows us to read csv file of data\n",
    "import numpy as np # allows us to perform calculation on our data\n",
    "from sklearn.svm import SVR #let us build preditive model\n",
    "import matplotlib.pyplot as plt # let us plot our model on  a graph for analysing"
   ]
  },
  {
   "cell_type": "code",
   "execution_count": 2,
   "metadata": {},
   "outputs": [],
   "source": [
    "#initialize two empty list\n",
    "dates = [] \n",
    "prices = []"
   ]
  },
  {
   "cell_type": "code",
   "execution_count": 3,
   "metadata": {},
   "outputs": [],
   "source": [
    "def get_data(filename):\n",
    "    with open(filename, 'r') as csvfile:\n",
    "        csvFileReader = csv.reader(csvfile) # read csv file\n",
    "        next(csvFileReader) #skip first column because it's just name\n",
    "        for row in csvFileReader:\n",
    "            dates.append(int(row[0].split('/')[0])) #first column in row and split dashes\n",
    "            prices.append(float(row[1]))\n",
    "    return"
   ]
  },
  {
   "cell_type": "code",
   "execution_count": 4,
   "metadata": {},
   "outputs": [],
   "source": [
    "def predict_prices(dates, prices ,x):\n",
    "    dates = np.reshape(dates, (len(dates),1))\n",
    "    svr_len = SVR(kernel= 'linear',C=1e3) #linear suppport vector regression\n",
    "    '''3 parameters : first kernal type of svm\n",
    "                      Second C penalty paramter of error term\n",
    "                          1e3 (Scientific notation for 1000)\n",
    "                          C determines how much we want the latter'''\n",
    "    '''we are trying both optimisation technique '''\n",
    "    svr_poly = SVR(kernel= 'poly',C= 1e3, degree = 2) # we use two len and poly\n",
    "    svr_rbf = SVR(kernel= 'rbf', C=1e3, gamma = 0.1)#radial basis function gamma defines how far it is\n",
    "    '''rbf defines similarity to be the Euclidean  distance between two input if both are right on top of each other \n",
    "    max similarity is 1 if too far it's 0 '''\n",
    "    svr_len.fit(dates, prices)\n",
    "    svr_poly.fit(dates, prices)\n",
    "    svr_rbf.fit(dates, prices)\n",
    "    plt.scatter(dates, prices, color='black', label='Data')\n",
    "    plt.plot(dates, svr_rbf.predict(dates), color='red', label='RBF Model')\n",
    "    plt.plot(dates, svr_rbf.predict(dates), color='green', label='Linear Model')\n",
    "    plt.plot(dates, svr_rbf.predict(dates), color='blue', label='Polynomial Model')\n",
    "    plt.xlabel('Date')\n",
    "    plt.ylabel('Price')\n",
    "    plt.title('Support Vector Regression')\n",
    "    plt.legend()\n",
    "    plt.show()\n",
    "    return svr_rbf.predict(x)[0], svr_lin.predict(x)[0], svr_poly.predict(x)[0]"
   ]
  },
  {
   "cell_type": "code",
   "execution_count": null,
   "metadata": {},
   "outputs": [
    {
     "name": "stderr",
     "output_type": "stream",
     "text": [
      "/usr/lib/python3.7/site-packages/sklearn/svm/base.py:196: FutureWarning: The default value of gamma will change from 'auto' to 'scale' in version 0.22 to account better for unscaled features. Set gamma explicitly to 'auto' or 'scale' to avoid this warning.\n",
      "  \"avoid this warning.\", FutureWarning)\n"
     ]
    }
   ],
   "source": [
    "get_data(\"HistoricalQuotes.csv\")\n",
    "predicted_price = predict_prices(dates, prices ,29)\n",
    "print(predict_prices)"
   ]
  },
  {
   "cell_type": "code",
   "execution_count": null,
   "metadata": {},
   "outputs": [],
   "source": []
  },
  {
   "cell_type": "code",
   "execution_count": null,
   "metadata": {},
   "outputs": [],
   "source": []
  },
  {
   "cell_type": "code",
   "execution_count": null,
   "metadata": {},
   "outputs": [],
   "source": []
  }
 ],
 "metadata": {
  "kernelspec": {
   "display_name": "Python 3",
   "language": "python",
   "name": "python3"
  },
  "language_info": {
   "codemirror_mode": {
    "name": "ipython",
    "version": 3
   },
   "file_extension": ".py",
   "mimetype": "text/x-python",
   "name": "python",
   "nbconvert_exporter": "python",
   "pygments_lexer": "ipython3",
   "version": "3.7.1"
  }
 },
 "nbformat": 4,
 "nbformat_minor": 2
}
